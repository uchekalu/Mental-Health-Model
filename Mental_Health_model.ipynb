{
  "metadata": {
    "kernelspec": {
      "language": "python",
      "display_name": "Python 3",
      "name": "python3"
    },
    "language_info": {
      "name": "python",
      "version": "3.10.14",
      "mimetype": "text/x-python",
      "codemirror_mode": {
        "name": "ipython",
        "version": 3
      },
      "pygments_lexer": "ipython3",
      "nbconvert_exporter": "python",
      "file_extension": ".py"
    },
    "kaggle": {
      "accelerator": "nvidiaTeslaT4",
      "dataSources": [
        {
          "sourceId": 84895,
          "databundleVersionId": 10008389,
          "sourceType": "competition"
        }
      ],
      "dockerImageVersionId": 30786,
      "isInternetEnabled": true,
      "language": "python",
      "sourceType": "notebook",
      "isGpuEnabled": true
    },
    "colab": {
      "name": "Mental Health model",
      "provenance": [],
      "include_colab_link": true
    }
  },
  "nbformat_minor": 0,
  "nbformat": 4,
  "cells": [
    {
      "cell_type": "markdown",
      "metadata": {
        "id": "view-in-github",
        "colab_type": "text"
      },
      "source": [
        "<a href=\"https://colab.research.google.com/github/uchekalu/Mental-Health-Model/blob/main/Mental_Health_model.ipynb\" target=\"_parent\"><img src=\"https://colab.research.google.com/assets/colab-badge.svg\" alt=\"Open In Colab\"/></a>"
      ]
    },
    {
      "source": [
        "# IMPORTANT: SOME KAGGLE DATA SOURCES ARE PRIVATE\n",
        "# RUN THIS CELL IN ORDER TO IMPORT YOUR KAGGLE DATA SOURCES.\n",
        "import kagglehub\n",
        "kagglehub.login()\n"
      ],
      "metadata": {
        "id": "Q_q3gPrwwq5t"
      },
      "cell_type": "code",
      "outputs": [],
      "execution_count": null
    },
    {
      "source": [
        "# IMPORTANT: RUN THIS CELL IN ORDER TO IMPORT YOUR KAGGLE DATA SOURCES,\n",
        "# THEN FEEL FREE TO DELETE THIS CELL.\n",
        "# NOTE: THIS NOTEBOOK ENVIRONMENT DIFFERS FROM KAGGLE'S PYTHON\n",
        "# ENVIRONMENT SO THERE MAY BE MISSING LIBRARIES USED BY YOUR\n",
        "# NOTEBOOK.\n",
        "\n",
        "playground_series_s4e11_path = kagglehub.competition_download('playground-series-s4e11')\n",
        "\n",
        "print('Data source import complete.')\n"
      ],
      "metadata": {
        "id": "CQs6-YBewq5x"
      },
      "cell_type": "code",
      "outputs": [],
      "execution_count": null
    },
    {
      "cell_type": "markdown",
      "source": [
        "## **Predicting depression based on mental health survey data**\n",
        "\n",
        "In this notebook, my goal is to predict whether individuals experience depression based on survey data. I will aim at building XGBoost model to train and fit the mental health data. The output is binary (0 for no depression, 1 for depression). Submissions will be evaluated using Accuracy Score.\n",
        "\n"
      ],
      "metadata": {
        "_uuid": "8f2839f25d086af736a60e9eeb907d3b93b6e0e5",
        "_cell_guid": "b1076dfc-b9ad-4769-8c92-a6c4dae69d19",
        "id": "QK6srN4Wwq5y"
      }
    },
    {
      "cell_type": "code",
      "source": [
        "import pandas as pd\n",
        "import numpy as np\n",
        "from xgboost import XGBRegressor\n",
        "from sklearn.model_selection import train_test_split\n",
        "from sklearn.metrics import mean_absolute_error\n",
        "from sklearn.compose import ColumnTransformer\n",
        "from sklearn.pipeline import Pipeline\n",
        "from sklearn.impute import SimpleImputer\n",
        "from sklearn.preprocessing import OneHotEncoder"
      ],
      "metadata": {
        "trusted": true,
        "execution": {
          "iopub.status.busy": "2024-11-19T21:38:04.132405Z",
          "iopub.execute_input": "2024-11-19T21:38:04.133246Z",
          "iopub.status.idle": "2024-11-19T21:38:04.137442Z",
          "shell.execute_reply.started": "2024-11-19T21:38:04.13321Z",
          "shell.execute_reply": "2024-11-19T21:38:04.136656Z"
        },
        "id": "z7nFGL8Xwq50"
      },
      "outputs": [],
      "execution_count": null
    },
    {
      "cell_type": "markdown",
      "source": [
        "Load and preprocess data"
      ],
      "metadata": {
        "id": "SawTNQ4Nwq51"
      }
    },
    {
      "cell_type": "code",
      "source": [
        "# Load data\n",
        "train_data = pd.read_csv(\"/kaggle/input/playground-series-s4e11/train.csv\", index_col='id')\n",
        "test_data = pd.read_csv(\"/kaggle/input/playground-series-s4e11/test.csv\", index_col= 'id')\n",
        "\n",
        "# Drop rows with missing target values\n",
        "train_data.dropna(axis=0, subset=['Depression'], inplace=True)\n",
        "\n",
        "# Separate target and predictors\n",
        "y = train_data['Depression']\n",
        "train_data.drop(['Depression'], axis=1, inplace=True)\n",
        "\n",
        "# split into training and validation\n",
        "X_train_full, X_valid_full, y_train, y_valid = train_test_split(\n",
        "train_data, y, train_size=0.8, test_size=0.2, random_state=0)\n",
        "\n",
        "\n",
        "# Select categorical columns with relatively low cardinality (convenient but arbitrary)\n",
        "low_cardinality_cols = [cname for cname in X_train_full.columns if X_train_full[cname].nunique() < 10 and\n",
        "                    X_train_full[cname].dtype == \"object\"]\n",
        "\n",
        "# Select numerical columns\n",
        "numerical_cols = [cname for cname in X_train_full.columns if X_train_full[cname].dtype in ['int64', 'float64']]\n",
        "\n",
        "# Keep selected columns only\n",
        "my_cols = low_cardinality_cols + numerical_cols\n",
        "X_train = X_train_full[my_cols].copy()\n",
        "X_valid = X_valid_full[my_cols].copy()\n",
        "X_test  = test_data[my_cols].copy()\n",
        "\n",
        "\n"
      ],
      "metadata": {
        "trusted": true,
        "execution": {
          "iopub.status.busy": "2024-11-19T21:38:04.451514Z",
          "iopub.execute_input": "2024-11-19T21:38:04.451754Z",
          "iopub.status.idle": "2024-11-19T21:38:04.979747Z",
          "shell.execute_reply.started": "2024-11-19T21:38:04.451731Z",
          "shell.execute_reply": "2024-11-19T21:38:04.978776Z"
        },
        "id": "Bagyrdw1wq51"
      },
      "outputs": [],
      "execution_count": null
    },
    {
      "cell_type": "code",
      "source": [
        "X_train.head()"
      ],
      "metadata": {
        "trusted": true,
        "execution": {
          "iopub.status.busy": "2024-11-19T21:38:04.981135Z",
          "iopub.execute_input": "2024-11-19T21:38:04.981416Z",
          "iopub.status.idle": "2024-11-19T21:38:04.996761Z",
          "shell.execute_reply.started": "2024-11-19T21:38:04.981389Z",
          "shell.execute_reply": "2024-11-19T21:38:04.995943Z"
        },
        "id": "jedpYu_gwq53",
        "outputId": "3c083b3f-affb-40d3-da91-969a91b0795a"
      },
      "outputs": [
        {
          "execution_count": 70,
          "output_type": "execute_result",
          "data": {
            "text/plain": "        Gender Working Professional or Student  \\\nid                                               \n125323  Female                         Student   \n118204  Female            Working Professional   \n371       Male            Working Professional   \n132975  Female            Working Professional   \n36674     Male            Working Professional   \n\n       Have you ever had suicidal thoughts ? Family History of Mental Illness  \\\nid                                                                              \n125323                                   Yes                               No   \n118204                                   Yes                              Yes   \n371                                      Yes                              Yes   \n132975                                    No                               No   \n36674                                     No                              Yes   \n\n         Age  Academic Pressure  Work Pressure  CGPA  Study Satisfaction  \\\nid                                                                         \n125323  29.0                5.0            NaN  5.57                 2.0   \n118204  37.0                NaN            5.0   NaN                 NaN   \n371     53.0                NaN            1.0   NaN                 NaN   \n132975  41.0                NaN            1.0   NaN                 NaN   \n36674   44.0                NaN            3.0   NaN                 NaN   \n\n        Job Satisfaction  Work/Study Hours  Financial Stress  \nid                                                            \n125323               NaN               8.0               1.0  \n118204               4.0               2.0               4.0  \n371                  4.0              12.0               2.0  \n132975               5.0               5.0               3.0  \n36674                3.0              10.0               3.0  ",
            "text/html": "<div>\n<style scoped>\n    .dataframe tbody tr th:only-of-type {\n        vertical-align: middle;\n    }\n\n    .dataframe tbody tr th {\n        vertical-align: top;\n    }\n\n    .dataframe thead th {\n        text-align: right;\n    }\n</style>\n<table border=\"1\" class=\"dataframe\">\n  <thead>\n    <tr style=\"text-align: right;\">\n      <th></th>\n      <th>Gender</th>\n      <th>Working Professional or Student</th>\n      <th>Have you ever had suicidal thoughts ?</th>\n      <th>Family History of Mental Illness</th>\n      <th>Age</th>\n      <th>Academic Pressure</th>\n      <th>Work Pressure</th>\n      <th>CGPA</th>\n      <th>Study Satisfaction</th>\n      <th>Job Satisfaction</th>\n      <th>Work/Study Hours</th>\n      <th>Financial Stress</th>\n    </tr>\n    <tr>\n      <th>id</th>\n      <th></th>\n      <th></th>\n      <th></th>\n      <th></th>\n      <th></th>\n      <th></th>\n      <th></th>\n      <th></th>\n      <th></th>\n      <th></th>\n      <th></th>\n      <th></th>\n    </tr>\n  </thead>\n  <tbody>\n    <tr>\n      <th>125323</th>\n      <td>Female</td>\n      <td>Student</td>\n      <td>Yes</td>\n      <td>No</td>\n      <td>29.0</td>\n      <td>5.0</td>\n      <td>NaN</td>\n      <td>5.57</td>\n      <td>2.0</td>\n      <td>NaN</td>\n      <td>8.0</td>\n      <td>1.0</td>\n    </tr>\n    <tr>\n      <th>118204</th>\n      <td>Female</td>\n      <td>Working Professional</td>\n      <td>Yes</td>\n      <td>Yes</td>\n      <td>37.0</td>\n      <td>NaN</td>\n      <td>5.0</td>\n      <td>NaN</td>\n      <td>NaN</td>\n      <td>4.0</td>\n      <td>2.0</td>\n      <td>4.0</td>\n    </tr>\n    <tr>\n      <th>371</th>\n      <td>Male</td>\n      <td>Working Professional</td>\n      <td>Yes</td>\n      <td>Yes</td>\n      <td>53.0</td>\n      <td>NaN</td>\n      <td>1.0</td>\n      <td>NaN</td>\n      <td>NaN</td>\n      <td>4.0</td>\n      <td>12.0</td>\n      <td>2.0</td>\n    </tr>\n    <tr>\n      <th>132975</th>\n      <td>Female</td>\n      <td>Working Professional</td>\n      <td>No</td>\n      <td>No</td>\n      <td>41.0</td>\n      <td>NaN</td>\n      <td>1.0</td>\n      <td>NaN</td>\n      <td>NaN</td>\n      <td>5.0</td>\n      <td>5.0</td>\n      <td>3.0</td>\n    </tr>\n    <tr>\n      <th>36674</th>\n      <td>Male</td>\n      <td>Working Professional</td>\n      <td>No</td>\n      <td>Yes</td>\n      <td>44.0</td>\n      <td>NaN</td>\n      <td>3.0</td>\n      <td>NaN</td>\n      <td>NaN</td>\n      <td>3.0</td>\n      <td>10.0</td>\n      <td>3.0</td>\n    </tr>\n  </tbody>\n</table>\n</div>"
          },
          "metadata": {}
        }
      ],
      "execution_count": null
    },
    {
      "cell_type": "code",
      "source": [],
      "metadata": {
        "trusted": true,
        "id": "rgj6SQkEwq55"
      },
      "outputs": [],
      "execution_count": null
    },
    {
      "cell_type": "markdown",
      "source": [
        "Preprocessing"
      ],
      "metadata": {
        "id": "27xdAdHdwq55"
      }
    },
    {
      "cell_type": "code",
      "source": [
        "# Numerical transformer\n",
        "num_trans = SimpleImputer(strategy = 'constant')\n",
        "\n",
        "# Categorical Transformer\n",
        "cat_trans = Pipeline(steps=[\n",
        "    ('imputer', SimpleImputer(strategy='most_frequent')),\n",
        "    ('ohen', OneHotEncoder(handle_unknown='ignore'))\n",
        "])\n",
        "\n",
        "# Bundle preprocessing for numerical and categorical data\n",
        "preprocessor = ColumnTransformer(\n",
        "    transformers=[\n",
        "        ('num', num_trans, numerical_cols),\n",
        "        ('cat', cat_trans, low_cardinality_cols)\n",
        "    ])\n",
        "\n",
        "# One-hot encode the data\n",
        "X_train = pd.get_dummies(X_train)\n",
        "X_valid = pd.get_dummies(X_valid)\n",
        "X_test = pd.get_dummies(X_test)\n",
        "X_train, X_valid = X_train.align(X_valid, join='left', axis=1)\n",
        "X_train, X_test = X_train.align(X_test, join='left', axis=1)"
      ],
      "metadata": {
        "trusted": true,
        "execution": {
          "iopub.status.busy": "2024-11-19T21:38:04.997748Z",
          "iopub.execute_input": "2024-11-19T21:38:04.998056Z",
          "iopub.status.idle": "2024-11-19T21:38:05.09623Z",
          "shell.execute_reply.started": "2024-11-19T21:38:04.998025Z",
          "shell.execute_reply": "2024-11-19T21:38:05.09543Z"
        },
        "id": "mcGiiGV5wq56"
      },
      "outputs": [],
      "execution_count": null
    },
    {
      "cell_type": "markdown",
      "source": [
        "Train and fit model"
      ],
      "metadata": {
        "id": "63h1EcmOwq56"
      }
    },
    {
      "cell_type": "code",
      "source": [
        "# Define model\n",
        "\n",
        "model  = XGBRegressor(n_estimators = 900, early_stopping_rounds = 5, learning_rate = 0.05)\n",
        "\n",
        "# Fit the model\n",
        "\n",
        "model.fit(X_train, y_train,\n",
        "             eval_set=[(X_valid, y_valid)],\n",
        "             verbose=False)\n",
        "\n",
        "# Get predictions\n",
        "predictions = model.predict(X_valid)\n",
        "\n",
        "# Calculate MAE\n",
        "mae = mean_absolute_error(predictions, y_valid)\n",
        "\n",
        "print(\"Mean Absolute Error:\" , mae)"
      ],
      "metadata": {
        "trusted": true,
        "execution": {
          "iopub.status.busy": "2024-11-19T21:38:05.098131Z",
          "iopub.execute_input": "2024-11-19T21:38:05.098794Z",
          "iopub.status.idle": "2024-11-19T21:38:17.901591Z",
          "shell.execute_reply.started": "2024-11-19T21:38:05.098746Z",
          "shell.execute_reply": "2024-11-19T21:38:17.899891Z"
        },
        "id": "Pb0dXs8Ywq57",
        "outputId": "f189d69d-6234-45ce-cc45-43c9489c4b63"
      },
      "outputs": [
        {
          "name": "stdout",
          "text": "Mean Absolute Error: 0.09848647864765923\n",
          "output_type": "stream"
        }
      ],
      "execution_count": null
    },
    {
      "cell_type": "code",
      "source": [
        "# Save test predictions to file\n",
        "test_preds = model.predict(X_test)\n",
        "output = pd.DataFrame({'id': X_test.index,\n",
        "                       'Depression': test_preds.round()})\n",
        "output.to_csv('submission.csv', index=False)"
      ],
      "metadata": {
        "trusted": true,
        "execution": {
          "iopub.status.busy": "2024-11-19T21:38:17.902355Z",
          "iopub.execute_input": "2024-11-19T21:38:17.902625Z",
          "iopub.status.idle": "2024-11-19T21:38:18.223367Z",
          "shell.execute_reply.started": "2024-11-19T21:38:17.902597Z",
          "shell.execute_reply": "2024-11-19T21:38:18.222432Z"
        },
        "id": "XfHmEp5Qwq57"
      },
      "outputs": [],
      "execution_count": null
    }
  ]
}